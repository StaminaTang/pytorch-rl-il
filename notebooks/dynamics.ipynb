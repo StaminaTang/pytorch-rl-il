{
 "cells": [
  {
   "cell_type": "code",
   "execution_count": 1,
   "metadata": {},
   "outputs": [],
   "source": [
    "import rlil\n",
    "import time\n",
    "import pickle\n",
    "import os\n",
    "import torch\n",
    "import numpy as np\n",
    "from copy import deepcopy\n",
    "from rlil.environments import GymEnvironment, Action\n",
    "from rlil.presets.continuous import rs_mpc\n",
    "from rlil.initializer import set_device\n",
    "from utils.pendulum_render import PendulumRender\n",
    "set_device(\"cpu\")"
   ]
  },
  {
   "cell_type": "code",
   "execution_count": 2,
   "metadata": {},
   "outputs": [
    {
     "name": "stdout",
     "output_type": "stream",
     "text": [
      "-----ON_POLICY_MODE: False-----\n"
     ]
    }
   ],
   "source": [
    "# set env\n",
    "env = GymEnvironment(\"Pendulum-v0\")\n",
    "renderer = PendulumRender()\n",
    "renderer.add_pendulum(\"ground truth\", color=(.8, .3, .3, 0.5))\n",
    "renderer.add_pendulum(\"nn\", color=(.2, .9, .2, 0.5))\n",
    "\n",
    "# load agent\n",
    "agent_fn = rs_mpc()\n",
    "agent = agent_fn(env)\n",
    "# agent_dir = \"../runs/rs_mpc/Pendulum-v0/rs-mpc_5746978_2020-05-09_10:41:06.054844\"\n",
    "# agent.load(agent_dir)"
   ]
  },
  {
   "cell_type": "markdown",
   "metadata": {},
   "source": [
    "## Observation\n",
    "\n",
    "Type: Box(3)\n",
    "\n",
    "Num | Observation  | Min | Max  \n",
    "----|--------------|-----|----   \n",
    "0   | cos(theta)   | -1.0| 1.0\n",
    "1   | sin(theta)   | -1.0| 1.0\n",
    "2   | theta dot    | -8.0| 8.0\n",
    "\n",
    "\n",
    "## Actions\n",
    "\n",
    "Type: Box(1)\n",
    "\n",
    "Num | Action  | Min | Max  \n",
    "----|--------------|-----|----   \n",
    "0   | Joint effort | -2.0| 2.0\n"
   ]
  },
  {
   "cell_type": "code",
   "execution_count": 3,
   "metadata": {},
   "outputs": [],
   "source": [
    "def get_theta_thetadots(state):\n",
    "    theta = torch.atan2(state.features[:, 1], state.features[:, 0]).item()\n",
    "    theta_dot = state.features[:, -1].item()\n",
    "    return theta, theta_dot"
   ]
  },
  {
   "cell_type": "code",
   "execution_count": 4,
   "metadata": {
    "scrolled": true
   },
   "outputs": [],
   "source": [
    "# render predicted pendulum\n",
    "state = env.reset()\n",
    "pred_state = state\n",
    "\n",
    "for i in range(20):\n",
    "    action = Action(torch.FloatTensor(Action.action_space().sample()).unsqueeze(0))\n",
    "    # render \n",
    "    theta, theta_dot = get_theta_thetadots(pred_state)\n",
    "    renderer.render(\"ground truth\", env._env.state, action.features.item())\n",
    "    renderer.render(\"nn\", [theta, theta_dot], action.features.item())\n",
    "    time.sleep(1/20)\n",
    "    \n",
    "    # predict next state\n",
    "    pred_next_state = agent.dynamics(pred_state, action)\n",
    "    pred_state = pred_next_state\n",
    "    \n",
    "    # step oracle\n",
    "    env.step(action)"
   ]
  },
  {
   "cell_type": "code",
   "execution_count": null,
   "metadata": {},
   "outputs": [],
   "source": []
  }
 ],
 "metadata": {
  "kernelspec": {
   "display_name": "Python 3",
   "language": "python",
   "name": "python3"
  },
  "language_info": {
   "codemirror_mode": {
    "name": "ipython",
    "version": 3
   },
   "file_extension": ".py",
   "mimetype": "text/x-python",
   "name": "python",
   "nbconvert_exporter": "python",
   "pygments_lexer": "ipython3",
   "version": "3.7.6"
  }
 },
 "nbformat": 4,
 "nbformat_minor": 4
}
